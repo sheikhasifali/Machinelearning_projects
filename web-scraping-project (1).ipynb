{
 "cells": [
  {
   "cell_type": "markdown",
   "metadata": {},
   "source": [
    "# Web Scraping Popular Movies using BeautifulSoup\n",
    " \n",
    "![](https://imgur.com/JAYEfY3.png)"
   ]
  },
  {
   "cell_type": "markdown",
   "metadata": {},
   "source": [
    "The **Project Idea** is to curate a list of popular movies that we can watch using Web Scraping. Check out the TMdb website here: https://www.themoviedb.org/movie\n",
    "\n",
    "**Web Scraping** is the process of gathering useful information from the web and making meaningful insights from it. In a way, web scarping is automating the process of data collection. \n",
    "\n",
    "**Note: Web Scraping code depends on the structure of the web page. So, if the structure changes then your code needs update too!**\n",
    "\n",
    "\n",
    "**Python** offers a variety of libraries to scrape the web. If you are starting with web scraping, then Beautiful Soup will be the easy option.\n",
    "\n",
    "We’ll be using the packages:\n",
    "* **Requests** — for downloading the HTML code from the TMdb URL\n",
    "* **BeautifulSoup4** — for extracting data from the HTML string\n",
    "* **Pandas** — to gather data into a dataframe for further processing\n",
    "\n"
   ]
  },
  {
   "cell_type": "markdown",
   "metadata": {},
   "source": [
    "Let's see an outline of the steps we'll follow:\n",
    "1. Load the TMdb movie web page https://www.themoviedb.org/movie using `Requests`.\n",
    "2. Parse the HTML web page using BeautifulSoup. \n",
    "3. Extract the list of movies from the landing page. For each page, we'll get the movie name, user rating and the movie page URL.\n",
    "3. Again for each movie, we'll grab the release dates, genres, duration and directors. \n",
    "4. Compile extracted movie details into Python Lists and Dictionaries.\n",
    "4. We'll extend the above logic to scrape multiple pages. \n",
    "5. Finally, we'll save all the movie informations into a csv file. \n",
    "\n",
    "```\n",
    "The csv file will be of the following format. \n",
    "Name,rating,genre,release_date,runtime\tdirector,url\n",
    "Mortal Kombat,80,\"Fantasy,Action, Adventure, Science Fiction, Thriller\",04/23/2021,1h 50m,Lewis Tan,\thttps://www.themoviedb.org/movie/460465\n",
    "Godzilla vs. Kong,82.0,\"Science Fiction, Action\",\t03/31/2021,1h 53m,Alexander Skarsgård,\thttps://www.themoviedb.org/movie/399566\n",
    "Nobody,85.0,\"Action, Thriller, Crime\",03/26/2021,1h 32m,Bob Odenkirk,https://www.themoviedb.org/movie/615457\n",
    "Zack Snyder's Justice League,85.0,\"Action, Adventure, Fantasy, Science Fiction\",03/18/2021,4h 2m,Ben Affleck,https://www.themoviedb.org/movie/791373\n",
    "```"
   ]
  },
  {
   "cell_type": "markdown",
   "metadata": {},
   "source": [
    "### Installing the Libraries\n",
    "Let’s start by installing the required packages."
   ]
  },
  {
   "cell_type": "code",
   "execution_count": 1,
   "metadata": {},
   "outputs": [],
   "source": [
    "# # Install the bs4 module from BeautifulSoup \n",
    "!pip install beautifulsoup4==4.9.3 --upgrade --quiet"
   ]
  },
  {
   "cell_type": "markdown",
   "metadata": {},
   "source": [
    "Let's import the necessary packages"
   ]
  },
  {
   "cell_type": "code",
   "execution_count": 2,
   "metadata": {},
   "outputs": [],
   "source": [
    "# Let's import necessary packages \n",
    "import requests\n",
    "import pandas as pd\n",
    "from bs4 import BeautifulSoup"
   ]
  },
  {
   "cell_type": "markdown",
   "metadata": {},
   "source": [
    "### Load the Webpage using Requests\n",
    "\n",
    "The landing page of TMdb movies page consists of a list of popular movies. We can click on each of the movie items and navigate to the individual movie page to get more details on each movie.\n",
    "\n",
    "Each page contains 20 movies. From the landing page, we will parse the list of movies, user ratings, and movie URLs. Then, we can navigate to the next pages using the ‘Load More’ button click."
   ]
  },
  {
   "cell_type": "code",
   "execution_count": 27,
   "metadata": {},
   "outputs": [],
   "source": [
    "# TMdb movie URL \n",
    "tmdb_movies_url = 'https://www.themoviedb.org/movie'\n",
    "\n",
    "headers={'User-Agent': 'Mozilla/5.0 (Windows NT 10.0; Win64; x64) AppleWebKit/537.36 (KHTML, like Gecko) Chrome/77.0.3865.90 Safari/537.36',\n",
    "        'referer':'https://www.themoviedb.org/movie'}"
   ]
  },
  {
   "cell_type": "code",
   "execution_count": 4,
   "metadata": {},
   "outputs": [],
   "source": [
    "# The movie page is downloaded using 'requests`\n",
    "response = requests.get(tmdb_movies_url, headers=header)"
   ]
  },
  {
   "cell_type": "code",
   "execution_count": 5,
   "metadata": {},
   "outputs": [
    {
     "data": {
      "text/plain": [
       "200"
      ]
     },
     "execution_count": 5,
     "metadata": {},
     "output_type": "execute_result"
    }
   ],
   "source": [
    "# Check if the request was successful \n",
    "response.status_code"
   ]
  },
  {
   "cell_type": "markdown",
   "metadata": {},
   "source": [
    "### The above code validates if the requests was successful using the `.status_code = 200`."
   ]
  },
  {
   "cell_type": "code",
   "execution_count": 7,
   "metadata": {
    "scrolled": false
   },
   "outputs": [
    {
     "data": {
      "text/plain": [
       "'<!DOCTYPE html>\\n<html lang=\"en\" class=\"no-js\">\\n  <head>\\n    <title>Popular Movies &#8212; The Movie Database (TMDB)</title>\\n    <meta http-equiv=\"X-UA-Compatible\" content=\"IE=edge\" />\\n    <meta http-e'"
      ]
     },
     "execution_count": 7,
     "metadata": {},
     "output_type": "execute_result"
    }
   ],
   "source": [
    "page_contents = response.text\n",
    "page_contents[:200]"
   ]
  },
  {
   "cell_type": "markdown",
   "metadata": {},
   "source": [
    "### Above shows first few snippet of the HTML code of the TMdb web page. Let's now write the `page-contents` into a file."
   ]
  },
  {
   "cell_type": "code",
   "execution_count": 8,
   "metadata": {},
   "outputs": [],
   "source": [
    "with open ('tmdb_movie.html', 'w') as f:\n",
    "    f.write(page_contents)"
   ]
  },
  {
   "cell_type": "code",
   "execution_count": 9,
   "metadata": {},
   "outputs": [],
   "source": [
    "doc = BeautifulSoup(page_contents, 'html.parser')"
   ]
  },
  {
   "cell_type": "markdown",
   "metadata": {},
   "source": [
    "The HTML page content is extracted using BeautifulSoup into `doc`."
   ]
  },
  {
   "cell_type": "markdown",
   "metadata": {},
   "source": [
    "Let us create a function to perform the above."
   ]
  },
  {
   "cell_type": "code",
   "execution_count": 10,
   "metadata": {},
   "outputs": [],
   "source": [
    "\"\"\"Function to download a web page using `requests` and check the status code to validate if the call was successful. \"\"\"\n",
    "def get_movies_page(movies_url):\n",
    "    # Access the webpage using `requests`\n",
    "    response=requests.get(movies_url, headers=headers)\n",
    "    \n",
    "    # Check if the request was successful\n",
    "    if response.status_code != 200:\n",
    "        raise Exception(f'Failed to load page {movies_url}')\n",
    "    \n",
    "    # Parse the `response' text using BeautifulSoup\n",
    "    movies_doc=BeautifulSoup(response.text, 'html.parser')\n",
    "    \n",
    "    return movies_doc"
   ]
  },
  {
   "cell_type": "markdown",
   "metadata": {},
   "source": [
    "### Inspect the Web page\n",
    "\n",
    "Chrome users can use the “Inspect” option by right-clicking on the page to examine the HTML code behind the page. A menu will appear, either on the bottom or right side of the page (based on the settings), with a long list of nested HTML tags. To find the correct tag associated with the information needed, select the details (ex. movie name) and click “Inspect” again and that will highlight a blue box. Now, you can click on the HTML tags and get the correct tag associated with the item of interest, here, movie name.\n",
    "\n",
    "As we see in the image below, the movie names are embedded in the `h2` tags.\n",
    "\n",
    "![](https://imgur.com/XzQ6OYC.png)"
   ]
  },
  {
   "cell_type": "markdown",
   "metadata": {},
   "source": [
    "We can use the `h2.a.text.strip()` to retrieve the name of the movie. Note, that we need to exclude the first four lines, as those do not contain the movie names."
   ]
  },
  {
   "cell_type": "code",
   "execution_count": 12,
   "metadata": {},
   "outputs": [
    {
     "name": "stdout",
     "output_type": "stream",
     "text": [
      "[<h2><a href=\"/movie/848278\" title=\"Jurassic Hunt\">Jurassic Hunt</a></h2>, <h2><a href=\"/movie/619778\" title=\"Malignant\">Malignant</a></h2>, <h2><a href=\"/movie/566525\" title=\"Shang-Chi and the Legend of the Ten Rings\">Shang-Chi and the Legend of the Ten Rings</a></h2>, <h2><a href=\"/movie/436969\" title=\"The Suicide Squad\">The Suicide Squad</a></h2>, <h2><a href=\"/movie/588228\" title=\"The Tomorrow War\">The Tomorrow War</a></h2>, <h2><a href=\"/movie/585216\" title=\"Escape Room: Tournament of Champions\">Escape Room: Tournament of Champions</a></h2>, <h2><a href=\"/movie/595743\" title=\"SAS: Red Notice\">SAS: Red Notice</a></h2>, <h2><a href=\"/movie/482373\" title=\"Don't Breathe 2\">Don't Breathe 2</a></h2>, <h2><a href=\"/movie/451048\" title=\"Jungle Cruise\">Jungle Cruise</a></h2>, <h2><a href=\"/movie/497698\" title=\"Black Widow\">Black Widow</a></h2>, <h2><a href=\"/movie/675445\" title=\"PAW Patrol: The Movie\">PAW Patrol: The Movie</a></h2>, <h2><a href=\"/movie/619297\" title=\"Sweet Girl\">Sweet Girl</a></h2>, <h2><a href=\"/movie/581726\" title=\"Infinite\">Infinite</a></h2>, <h2><a href=\"/movie/379686\" title=\"Space Jam: A New Legacy\">Space Jam: A New Legacy</a></h2>, <h2><a href=\"/movie/593910\" title=\"Cinderella\">Cinderella</a></h2>, <h2><a href=\"/movie/459151\" title=\"The Boss Baby: Family Business\">The Boss Baby: Family Business</a></h2>, <h2><a href=\"/movie/508943\" title=\"Luca\">Luca</a></h2>, <h2><a href=\"/movie/860425\" title=\"Breathless\">Breathless</a></h2>, <h2><a href=\"/movie/385128\" title=\"F9\">F9</a></h2>, <h2><a href=\"/movie/744275\" title=\"After We Fell\">After We Fell</a></h2>]\n"
     ]
    }
   ],
   "source": [
    "print(doc.find_all('h2')[4:])"
   ]
  },
  {
   "cell_type": "code",
   "execution_count": 13,
   "metadata": {},
   "outputs": [
    {
     "name": "stdout",
     "output_type": "stream",
     "text": [
      "['Jurassic Hunt', 'Malignant', 'Shang-Chi and the Legend of the Ten Rings', 'The Suicide Squad', 'The Tomorrow War', 'Escape Room: Tournament of Champions', 'SAS: Red Notice', \"Don't Breathe 2\", 'Jungle Cruise', 'Black Widow', 'PAW Patrol: The Movie', 'Sweet Girl', 'Infinite', 'Space Jam: A New Legacy', 'Cinderella', 'The Boss Baby: Family Business', 'Luca', 'Breathless', 'F9', 'After We Fell']\n"
     ]
    }
   ],
   "source": [
    "movies_names_tags=doc.find_all('h2')[4:]\n",
    "names=[]\n",
    "for h2 in movies_names_tags:\n",
    "    names.append(h2.a['title'])\n",
    "print(names)"
   ]
  },
  {
   "cell_type": "markdown",
   "metadata": {},
   "source": [
    "Similarly, we can extarct the movie links. "
   ]
  },
  {
   "cell_type": "code",
   "execution_count": 14,
   "metadata": {},
   "outputs": [
    {
     "name": "stdout",
     "output_type": "stream",
     "text": [
      "['/movie/848278', '/movie/619778', '/movie/566525', '/movie/436969', '/movie/588228', '/movie/585216', '/movie/595743', '/movie/482373', '/movie/451048', '/movie/497698', '/movie/675445', '/movie/619297', '/movie/581726', '/movie/379686', '/movie/593910', '/movie/459151', '/movie/508943', '/movie/860425', '/movie/385128', '/movie/744275']\n"
     ]
    }
   ],
   "source": [
    "urls=[]\n",
    "for h2 in movies_names_tags:\n",
    "    urls.append(h2.a['href'])\n",
    "print(urls)"
   ]
  },
  {
   "cell_type": "markdown",
   "metadata": {},
   "source": [
    "Let's create functions to extract the movies names and movie URLs."
   ]
  },
  {
   "cell_type": "code",
   "execution_count": 16,
   "metadata": {},
   "outputs": [],
   "source": [
    "\"\"\"Function to extract the movie names from HTML source code using BeautifulSoup.\"\"\"\n",
    "def get_movies_names(doc):\n",
    "    \n",
    "    movies_names = []\n",
    "    # Loop through the page get all the movie names from the page\n",
    "    for h2 in movies_names_tags:\n",
    "        movies_names.append(h2.a['title'])\n",
    "    return movies_names"
   ]
  },
  {
   "cell_type": "markdown",
   "metadata": {},
   "source": [
    "`get_movies_names` can be used to get the list of popular movie names."
   ]
  },
  {
   "cell_type": "code",
   "execution_count": 17,
   "metadata": {},
   "outputs": [
    {
     "data": {
      "text/plain": [
       "['Jurassic Hunt',\n",
       " 'Malignant',\n",
       " 'Shang-Chi and the Legend of the Ten Rings',\n",
       " 'The Suicide Squad',\n",
       " 'The Tomorrow War',\n",
       " 'Escape Room: Tournament of Champions',\n",
       " 'SAS: Red Notice',\n",
       " \"Don't Breathe 2\",\n",
       " 'Jungle Cruise',\n",
       " 'Black Widow',\n",
       " 'PAW Patrol: The Movie',\n",
       " 'Sweet Girl',\n",
       " 'Infinite',\n",
       " 'Space Jam: A New Legacy',\n",
       " 'Cinderella',\n",
       " 'The Boss Baby: Family Business',\n",
       " 'Luca',\n",
       " 'Breathless',\n",
       " 'F9',\n",
       " 'After We Fell']"
      ]
     },
     "execution_count": 17,
     "metadata": {},
     "output_type": "execute_result"
    }
   ],
   "source": [
    "# Get the popular movie list from the webpage using the BeautifulSoup object `doc`. \n",
    "get_movies_names(doc)"
   ]
  },
  {
   "cell_type": "markdown",
   "metadata": {},
   "source": [
    "The above shows the list of movies in the landing page of the TMdb movie web page. \n",
    "\n",
    "Similarly,  let's define functions for movie user ratings and URLs.\n",
    "\n",
    "The user ratings are embedded as part of the `div` tag under the `user_score_chart` class in the webpage as below.\n",
    "\n",
    "![](https://imgur.com/WqCIgES.png)"
   ]
  },
  {
   "cell_type": "code",
   "execution_count": 19,
   "metadata": {},
   "outputs": [
    {
     "name": "stdout",
     "output_type": "stream",
     "text": [
      "[<div class=\"user_score_chart 60e49c9c6bdec300460a32fe\" data-bar-color=\"#d2d531\" data-percent=\"48.0\" data-track-color=\"#423d0f\">\n",
      "<div class=\"percent\">\n",
      "<span class=\"icon icon-r48\"></span>\n",
      "</div>\n",
      "</div>, <div class=\"user_score_chart 5d424c8395c0af0014d8113a\" data-bar-color=\"#21d07a\" data-percent=\"73.0\" data-track-color=\"#204529\">\n",
      "<div class=\"percent\">\n",
      "<span class=\"icon icon-r73\"></span>\n",
      "</div>\n",
      "</div>, <div class=\"user_score_chart 5c05f27cc3a3685c370d0750\" data-bar-color=\"#21d07a\" data-percent=\"79.0\" data-track-color=\"#204529\">\n",
      "<div class=\"percent\">\n",
      "<span class=\"icon icon-r79\"></span>\n",
      "</div>\n",
      "</div>, <div class=\"user_score_chart 5886bfcd925141197d001333\" data-bar-color=\"#21d07a\" data-percent=\"79.0\" data-track-color=\"#204529\">\n",
      "<div class=\"percent\">\n",
      "<span class=\"icon icon-r79\"></span>\n",
      "</div>\n",
      "</div>, <div class=\"user_score_chart 5c8abc659251415249c0791b\" data-bar-color=\"#21d07a\" data-percent=\"81.0\" data-track-color=\"#204529\">\n",
      "<div class=\"percent\">\n",
      "<span class=\"icon icon-r81\"></span>\n",
      "</div>\n",
      "</div>, <div class=\"user_score_chart 5c7706dd0e0a265e6c5707fa\" data-bar-color=\"#21d07a\" data-percent=\"71.0\" data-track-color=\"#204529\">\n",
      "<div class=\"percent\">\n",
      "<span class=\"icon icon-r71\"></span>\n",
      "</div>\n",
      "</div>, <div class=\"user_score_chart 5cb75b83c3a3683abf817a00\" data-bar-color=\"#d2d531\" data-percent=\"59.0\" data-track-color=\"#423d0f\">\n",
      "<div class=\"percent\">\n",
      "<span class=\"icon icon-r59\"></span>\n",
      "</div>\n",
      "</div>, <div class=\"user_score_chart 59ea1f769251411a2b0001b9\" data-bar-color=\"#21d07a\" data-percent=\"77.0\" data-track-color=\"#204529\">\n",
      "<div class=\"percent\">\n",
      "<span class=\"icon icon-r77\"></span>\n",
      "</div>\n",
      "</div>, <div class=\"user_score_chart 58e79aafc3a36872af04bdbe\" data-bar-color=\"#21d07a\" data-percent=\"79.0\" data-track-color=\"#204529\">\n",
      "<div class=\"percent\">\n",
      "<span class=\"icon icon-r79\"></span>\n",
      "</div>\n",
      "</div>, <div class=\"user_score_chart 5a5701a9c3a3685ec302b3ef\" data-bar-color=\"#21d07a\" data-percent=\"78.0\" data-track-color=\"#204529\">\n",
      "<div class=\"percent\">\n",
      "<span class=\"icon icon-r78\"></span>\n",
      "</div>\n",
      "</div>, <div class=\"user_score_chart 5e501a1aa93d250017464f95\" data-bar-color=\"#21d07a\" data-percent=\"80\" data-track-color=\"#204529\">\n",
      "<div class=\"percent\">\n",
      "<span class=\"icon icon-r80\"></span>\n",
      "</div>\n",
      "</div>, <div class=\"user_score_chart 5d3f87dab87aec0bb438ef53\" data-bar-color=\"#d2d531\" data-percent=\"69.0\" data-track-color=\"#423d0f\">\n",
      "<div class=\"percent\">\n",
      "<span class=\"icon icon-r69\"></span>\n",
      "</div>\n",
      "</div>, <div class=\"user_score_chart 5c632fa80e0a262fa194ddac\" data-bar-color=\"#21d07a\" data-percent=\"75.0\" data-track-color=\"#204529\">\n",
      "<div class=\"percent\">\n",
      "<span class=\"icon icon-r75\"></span>\n",
      "</div>\n",
      "</div>, <div class=\"user_score_chart 56a8aace9251413c20004dd6\" data-bar-color=\"#21d07a\" data-percent=\"74.0\" data-track-color=\"#204529\">\n",
      "<div class=\"percent\">\n",
      "<span class=\"icon icon-r74\"></span>\n",
      "</div>\n",
      "</div>, <div class=\"user_score_chart 5cad2ddbc3a36812ac191ebc\" data-bar-color=\"#d2d531\" data-percent=\"68.0\" data-track-color=\"#423d0f\">\n",
      "<div class=\"percent\">\n",
      "<span class=\"icon icon-r68\"></span>\n",
      "</div>\n",
      "</div>, <div class=\"user_score_chart 5927ec3f9251413b4503834d\" data-bar-color=\"#21d07a\" data-percent=\"78.0\" data-track-color=\"#204529\">\n",
      "<div class=\"percent\">\n",
      "<span class=\"icon icon-r78\"></span>\n",
      "</div>\n",
      "</div>, <div class=\"user_score_chart 5a9ad717c3a3680b2d01d318\" data-bar-color=\"#21d07a\" data-percent=\"81.0\" data-track-color=\"#204529\">\n",
      "<div class=\"percent\">\n",
      "<span class=\"icon icon-r81\"></span>\n",
      "</div>\n",
      "</div>, <div class=\"user_score_chart 6113c20c006b010072e0e688\" data-bar-color=\"#d2d531\" data-percent=\"59.0\" data-track-color=\"#423d0f\">\n",
      "<div class=\"percent\">\n",
      "<span class=\"icon icon-r59\"></span>\n",
      "</div>\n",
      "</div>, <div class=\"user_score_chart 56d43e1bc3a36870ac000d44\" data-bar-color=\"#21d07a\" data-percent=\"75.0\" data-track-color=\"#204529\">\n",
      "<div class=\"percent\">\n",
      "<span class=\"icon icon-r75\"></span>\n",
      "</div>\n",
      "</div>, <div class=\"user_score_chart 5f6488676a222700378524ff\" data-bar-color=\"#21d07a\" data-percent=\"84.0\" data-track-color=\"#204529\">\n",
      "<div class=\"percent\">\n",
      "<span class=\"icon icon-r84\"></span>\n",
      "</div>\n",
      "</div>]\n"
     ]
    }
   ],
   "source": [
    "print(doc.find_all('div', {'class': 'user_score_chart'}))"
   ]
  },
  {
   "cell_type": "code",
   "execution_count": 20,
   "metadata": {},
   "outputs": [],
   "source": [
    "\"\"\"Function to extract the movie user rating from HTML source code using the BeautifulSoup.\"\"\"\n",
    "def get_movies_rating(doc):\n",
    "    \n",
    "    movies_rating = []\n",
    "    # Loop through the webpage to get the ratings of all the movies in the page\n",
    "    movies_rating_tags=doc.find_all('div', {'class': 'user_score_chart'})\n",
    "    for tags in movies_rating_tags:\n",
    "        movies_rating.append(tags['data-percent'])\n",
    "    return movies_rating"
   ]
  },
  {
   "cell_type": "code",
   "execution_count": 21,
   "metadata": {},
   "outputs": [
    {
     "data": {
      "text/plain": [
       "['48.0',\n",
       " '73.0',\n",
       " '79.0',\n",
       " '79.0',\n",
       " '81.0',\n",
       " '71.0',\n",
       " '59.0',\n",
       " '77.0',\n",
       " '79.0',\n",
       " '78.0',\n",
       " '80',\n",
       " '69.0',\n",
       " '75.0',\n",
       " '74.0',\n",
       " '68.0',\n",
       " '78.0',\n",
       " '81.0',\n",
       " '59.0',\n",
       " '75.0',\n",
       " '84.0']"
      ]
     },
     "execution_count": 21,
     "metadata": {},
     "output_type": "execute_result"
    }
   ],
   "source": [
    "# Get the ratings of each movies in the webpage using the BeautifulSoup object `doc`. \n",
    "get_movies_rating(doc)"
   ]
  },
  {
   "cell_type": "markdown",
   "metadata": {},
   "source": [
    "The above shows the user ratings for movies in the landing page of the TMdb movie web page. \n",
    "\n",
    "Each movie URL can be retrieved by appending the base URL of https://www.themoviedb.org to .a['href'].\n",
    "\n",
    "![](https://imgur.com/8D8DYAq.png)"
   ]
  },
  {
   "cell_type": "code",
   "execution_count": 75,
   "metadata": {},
   "outputs": [],
   "source": [
    " \"\"\"Function to extract the movie links from HTML source code using BeautifulSoup. \"\"\"\n",
    "def get_movies_urls(doc):\n",
    "   \n",
    "    movies_urls = []\n",
    "    base_url='https://www.themoviedb.org'\n",
    "    # Loop through the webpage to get the URL of each movie\n",
    "    for h2 in movies_names_tags:\n",
    "        movies_urls.append(base_url+h2.a['href'])\n",
    "    return movies_urls"
   ]
  },
  {
   "cell_type": "code",
   "execution_count": 76,
   "metadata": {},
   "outputs": [
    {
     "data": {
      "text/plain": [
       "['https://www.themoviedb.org/movie/848278',\n",
       " 'https://www.themoviedb.org/movie/619778',\n",
       " 'https://www.themoviedb.org/movie/566525',\n",
       " 'https://www.themoviedb.org/movie/436969',\n",
       " 'https://www.themoviedb.org/movie/588228',\n",
       " 'https://www.themoviedb.org/movie/585216',\n",
       " 'https://www.themoviedb.org/movie/595743',\n",
       " 'https://www.themoviedb.org/movie/482373',\n",
       " 'https://www.themoviedb.org/movie/451048',\n",
       " 'https://www.themoviedb.org/movie/497698',\n",
       " 'https://www.themoviedb.org/movie/675445',\n",
       " 'https://www.themoviedb.org/movie/619297',\n",
       " 'https://www.themoviedb.org/movie/581726',\n",
       " 'https://www.themoviedb.org/movie/379686',\n",
       " 'https://www.themoviedb.org/movie/593910',\n",
       " 'https://www.themoviedb.org/movie/459151',\n",
       " 'https://www.themoviedb.org/movie/508943',\n",
       " 'https://www.themoviedb.org/movie/860425',\n",
       " 'https://www.themoviedb.org/movie/385128',\n",
       " 'https://www.themoviedb.org/movie/744275']"
      ]
     },
     "execution_count": 76,
     "metadata": {},
     "output_type": "execute_result"
    }
   ],
   "source": [
    "# Get the URLS of each movies in the webpage using the BeautifulSoup object `doc`. \n",
    "get_movies_urls(doc)"
   ]
  },
  {
   "cell_type": "markdown",
   "metadata": {},
   "source": [
    "By now we have movie names, user rating, and the movie URLs for the first page.\n",
    "\n",
    "Let’s first consider a sample movie web page: Godzilla vs. Kong and see how we parse HTML tags to get additional information like release date, genre, runtime, and director of each of the movies.\n",
    "\n",
    "![](https://imgur.com/N1wxPw8.png)"
   ]
  },
  {
   "cell_type": "markdown",
   "metadata": {},
   "source": [
    "To read additional movie information, let's create a function that can accept a movie url. "
   ]
  },
  {
   "cell_type": "code",
   "execution_count": 77,
   "metadata": {},
   "outputs": [],
   "source": [
    "# Let's read a movie page\n",
    "def get_detailed_movie_page(movies_url):\n",
    "\n",
    "# Access the webpage using `requests`\n",
    "    response=requests.get(movies_url, headers=headers)\n",
    "    \n",
    "    # Check if the request was successful\n",
    "    if response.status_code != 200:\n",
    "        raise Exception(f'Failed to load page {movies_url}')\n",
    "    \n",
    "    # Parse the `response' text using BeautifulSoup\n",
    "    movies_doc=BeautifulSoup(response.text, 'html.parser')\n",
    "    \n",
    "    return movies_doc"
   ]
  },
  {
   "cell_type": "code",
   "execution_count": 78,
   "metadata": {},
   "outputs": [],
   "source": [
    "doc1 = get_detailed_movie_page('https://www.themoviedb.org/movie/399566')"
   ]
  },
  {
   "cell_type": "markdown",
   "metadata": {},
   "source": [
    "We have the HTML source code in the \n",
    "BeautifulSoup object `doc1`."
   ]
  },
  {
   "cell_type": "code",
   "execution_count": 40,
   "metadata": {},
   "outputs": [
    {
     "name": "stdout",
     "output_type": "stream",
     "text": [
      "[<div class=\"facts\">\n",
      "<span class=\"certification\">\n",
      "        PG-13\n",
      "      </span>\n",
      "<span class=\"release\">\n",
      "        03/31/2021 (US)\n",
      "      </span>\n",
      "<span class=\"genres\">\n",
      "<a href=\"/genre/28-action/movie\">Action</a>, <a href=\"/genre/12-adventure/movie\">Adventure</a>, <a href=\"/genre/14-fantasy/movie\">Fantasy</a>\n",
      "</span>\n",
      "<span class=\"runtime\">\n",
      "      \n",
      "        1h 53m\n",
      "      \n",
      "    </span>\n",
      "</div>]\n"
     ]
    }
   ],
   "source": [
    "print(doc1.find_all('div', {'class':'facts'}))"
   ]
  },
  {
   "cell_type": "code",
   "execution_count": 46,
   "metadata": {},
   "outputs": [
    {
     "name": "stdout",
     "output_type": "stream",
     "text": [
      "['PG-13', '03/31/2021', '(US)', 'Action,', 'Adventure,', 'Fantasy', '1h', '53m']\n"
     ]
    }
   ],
   "source": [
    "add_info=doc1.find('div', {'class':'facts'})\n",
    "print(add_info.text.split()[:])"
   ]
  },
  {
   "cell_type": "code",
   "execution_count": 47,
   "metadata": {},
   "outputs": [
    {
     "name": "stdout",
     "output_type": "stream",
     "text": [
      "03/31/2021 ['Action,', 'Adventure,', 'Fantasy'] ['1h', '53m']\n"
     ]
    }
   ],
   "source": [
    "# Find the `div` tag under `facts` class to get the release date, genre and runtime \n",
    "\n",
    "release_date=[]\n",
    "genre=[]\n",
    "runtime=[]\n",
    "add_info=doc1.find('div', {'class':'facts'})\n",
    "release_date=add_info.text.split()[1]\n",
    "genre=add_info.text.split()[3:-2]\n",
    "runtime=add_info.text.split()[-2:]\n",
    "# Print and validate the result is correct\n",
    "print(release_date, genre, runtime)"
   ]
  },
  {
   "cell_type": "code",
   "execution_count": 62,
   "metadata": {},
   "outputs": [
    {
     "name": "stdout",
     "output_type": "stream",
     "text": [
      "Adam Wingard\n"
     ]
    }
   ],
   "source": [
    "print (d_tags[0].text.strip().partition('\\n')[0])"
   ]
  },
  {
   "cell_type": "code",
   "execution_count": 50,
   "metadata": {},
   "outputs": [
    {
     "name": "stdout",
     "output_type": "stream",
     "text": [
      "Adam Wingard\n"
     ]
    }
   ],
   "source": [
    "# Find the `div` tag under `scroller_wrap should_fade is_fading` class to get the director\n",
    "d_tags = doc1.find_all('li',{'class':'profile'})\n",
    "\n",
    "# Print and validate the result\n",
    "print (d_tags[0].text.strip().partition(\"\\n\")[0])"
   ]
  },
  {
   "cell_type": "markdown",
   "metadata": {},
   "source": [
    "The `div` tag under class `facts` contains the release date, genre and runtime details."
   ]
  },
  {
   "cell_type": "code",
   "execution_count": 79,
   "metadata": {},
   "outputs": [],
   "source": [
    "def get_movies_info(doc):\n",
    "    \"\"\"\n",
    "    Function to get the movie informations - \n",
    "    release date, genre, runtime and director.\n",
    "    \"\"\"\n",
    "    add_info=doc.find('div', {'class':'facts'})\n",
    "    release_date=add_info.text.split()[1]\n",
    "    genre=add_info.text.split()[3:-2]\n",
    "    runtime=add_info.text.split()[-2:]\n",
    "    d_tags = doc.find_all('li',{'class':'profile'})\n",
    "\n",
    "    # Print and validate the result\n",
    "    director=d_tags[0].text.strip().partition(\"\\n\")[0]\n",
    "    return release_date, genre, runtime, director"
   ]
  },
  {
   "cell_type": "code",
   "execution_count": 64,
   "metadata": {
    "scrolled": true
   },
   "outputs": [
    {
     "data": {
      "text/plain": [
       "('03/31/2021',\n",
       " ['Action,', 'Adventure,', 'Fantasy'],\n",
       " ['1h', '53m'],\n",
       " 'Adam Wingard')"
      ]
     },
     "execution_count": 64,
     "metadata": {},
     "output_type": "execute_result"
    }
   ],
   "source": [
    "# Call the `get_movies_info` for movie `Godzilla vs. Kong`.\n",
    "get_movies_info(doc1) "
   ]
  },
  {
   "cell_type": "markdown",
   "metadata": {},
   "source": [
    "The above logic can be extended to get the release dates, genres, runtimes, and directors for all the URLs we have from the landing page.\n"
   ]
  },
  {
   "cell_type": "code",
   "execution_count": 80,
   "metadata": {},
   "outputs": [],
   "source": [
    "\"\"\"Function to get lists of movie information as lists from all the pages. \"\"\"\n",
    "def get_all_movies_details(urls):\n",
    "    \n",
    "    genres = []\n",
    "    release_dates = []\n",
    "    runtimes = []\n",
    "    directors = []\n",
    "    \n",
    "    # Loop through all the urls of the the movies \n",
    "    for url in urls:\n",
    "        movie_doc=get_detailed_movie_page(url)\n",
    "    \n",
    "        # get_movies_info returns release_date, genre, runtime, director.\n",
    "        release_date, genre, runtime, director=get_movies_info(movie_doc)\n",
    "        # Convert the genre list to string on \n",
    "        genres.append(\" \".join(genre))\n",
    "        release_dates.append(release_date)\n",
    "        runtimes.append(\" \".join(runtime))\n",
    "        directors.append(director)\n",
    "        \n",
    "        \n",
    "    return genres, release_dates, runtimes, directors"
   ]
  },
  {
   "cell_type": "markdown",
   "metadata": {},
   "source": [
    "We have all the details that we are looking to retrieve from the TMdb web page `name`, `ratings`, `genres`, `release_dates`, `runtimes`, `directors` and `urls`."
   ]
  },
  {
   "cell_type": "markdown",
   "metadata": {},
   "source": [
    "### Putting all the Pieces Together\n",
    "\n",
    "We’ve got all the information in different pieces of our BeautifulSoup scraper. We need to assemble them into a single function and make it as reusable as possible.\n",
    "\n",
    "I’ve used Python `Dictionary` to store the key-value pairs of the movie information. Later, I've copied the dictionary to `pandas DataFrame` to store the tabular movie information into rows and columns."
   ]
  },
  {
   "cell_type": "code",
   "execution_count": 68,
   "metadata": {},
   "outputs": [
    {
     "data": {
      "text/plain": [
       "[2, 3]"
      ]
     },
     "execution_count": 68,
     "metadata": {},
     "output_type": "execute_result"
    }
   ],
   "source": [
    "a=[2]\n",
    "a+=[3]\n",
    "a"
   ]
  },
  {
   "cell_type": "code",
   "execution_count": 81,
   "metadata": {},
   "outputs": [],
   "source": [
    "def scrape_movies():\n",
    "    \"\"\"\n",
    "    Function to download web page using `requests` and\n",
    "    to extract the HTML source code using BeautifulSoup.\n",
    "    \"\"\"\n",
    "    # Let's get the popular movies listing from the TMdb website\n",
    "    page_count = 1 # Initializing the movie page count to 1\n",
    "    # Define lists for all the movie attributes\n",
    "    all_names = []\n",
    "    all_ratings = []\n",
    "    all_genres = []\n",
    "    all_release_dates = []\n",
    "    all_runtimes = []\n",
    "    all_directors = []\n",
    "    all_urls = []\n",
    "    \n",
    "    while page_count < 2: # Looping for 8 pages of the TMdb web page\n",
    "        movies_url = f\"https://www.themoviedb.org/movie?page={page_count}\"\n",
    "        # Access the webpage using `requests`\n",
    "        response = requests.get(movies_url, headers=header)\n",
    "        # Check if the request was successful\n",
    "        if response.status_code != 200:\n",
    "            raise Exception('Failed to load page {}'.format(movies_url))\n",
    "        # Parse the `response' text using BeautifulSoup\n",
    "        doc = BeautifulSoup(response.text, 'html.parser')\n",
    "        \n",
    "        urls = get_movies_urls(doc)\n",
    "        print(urls)\n",
    "        genres, release_dates, runtimes, directors = get_all_movies_details(urls)\n",
    "        \n",
    "        # Append each movie attribute to respective lists\n",
    "        all_names += get_movies_names(doc)\n",
    "        all_ratings += get_movies_rating(doc)\n",
    "        all_genres += genres\n",
    "        all_release_dates += release_dates\n",
    "        all_runtimes += runtimes\n",
    "        all_directors += directors\n",
    "        all_urls += urls \n",
    "        page_count += 1\n",
    "\n",
    "        # Defining a dictionary to store the movie informations\n",
    "    movies_dict = {\n",
    "        'name': all_names,\n",
    "        'rating': all_ratings,\n",
    "        'genre': all_genres,\n",
    "        'release_date': all_release_dates,\n",
    "        'runtime': all_runtimes,\n",
    "        'director': all_directors,\n",
    "        'url': all_urls\n",
    "    }\n",
    "    return pd.DataFrame(movies_dict)"
   ]
  },
  {
   "cell_type": "markdown",
   "metadata": {},
   "source": [
    "### In this project, we are scraping seven pages and since each page has 20 movies listed, output dataset has 140 rows. It goes without saying that the more movie listing you want, the more web pages you should scrape.\n",
    "\n",
    "#### Let's save the movies dataframe to a `.csv` file. "
   ]
  },
  {
   "cell_type": "code",
   "execution_count": 82,
   "metadata": {
    "scrolled": true
   },
   "outputs": [
    {
     "name": "stdout",
     "output_type": "stream",
     "text": [
      "['https://www.themoviedb.org/movie/848278', 'https://www.themoviedb.org/movie/619778', 'https://www.themoviedb.org/movie/566525', 'https://www.themoviedb.org/movie/436969', 'https://www.themoviedb.org/movie/588228', 'https://www.themoviedb.org/movie/585216', 'https://www.themoviedb.org/movie/595743', 'https://www.themoviedb.org/movie/482373', 'https://www.themoviedb.org/movie/451048', 'https://www.themoviedb.org/movie/497698', 'https://www.themoviedb.org/movie/675445', 'https://www.themoviedb.org/movie/619297', 'https://www.themoviedb.org/movie/581726', 'https://www.themoviedb.org/movie/379686', 'https://www.themoviedb.org/movie/593910', 'https://www.themoviedb.org/movie/459151', 'https://www.themoviedb.org/movie/508943', 'https://www.themoviedb.org/movie/860425', 'https://www.themoviedb.org/movie/385128', 'https://www.themoviedb.org/movie/744275']\n"
     ]
    },
    {
     "data": {
      "text/html": [
       "<div>\n",
       "<style scoped>\n",
       "    .dataframe tbody tr th:only-of-type {\n",
       "        vertical-align: middle;\n",
       "    }\n",
       "\n",
       "    .dataframe tbody tr th {\n",
       "        vertical-align: top;\n",
       "    }\n",
       "\n",
       "    .dataframe thead th {\n",
       "        text-align: right;\n",
       "    }\n",
       "</style>\n",
       "<table border=\"1\" class=\"dataframe\">\n",
       "  <thead>\n",
       "    <tr style=\"text-align: right;\">\n",
       "      <th></th>\n",
       "      <th>name</th>\n",
       "      <th>rating</th>\n",
       "      <th>genre</th>\n",
       "      <th>release_date</th>\n",
       "      <th>runtime</th>\n",
       "      <th>director</th>\n",
       "      <th>url</th>\n",
       "    </tr>\n",
       "  </thead>\n",
       "  <tbody>\n",
       "    <tr>\n",
       "      <th>0</th>\n",
       "      <td>Jurassic Hunt</td>\n",
       "      <td>48.0</td>\n",
       "      <td>Action, Science Fiction, Thriller</td>\n",
       "      <td>09/01/2021</td>\n",
       "      <td>1h 23m</td>\n",
       "      <td>Hank Braxtan</td>\n",
       "      <td>https://www.themoviedb.org/movie/848278</td>\n",
       "    </tr>\n",
       "    <tr>\n",
       "      <th>1</th>\n",
       "      <td>Malignant</td>\n",
       "      <td>73.0</td>\n",
       "      <td>Horror, Thriller, Mystery, Crime</td>\n",
       "      <td>09/10/2021</td>\n",
       "      <td>1h 51m</td>\n",
       "      <td>James Wan</td>\n",
       "      <td>https://www.themoviedb.org/movie/619778</td>\n",
       "    </tr>\n",
       "    <tr>\n",
       "      <th>2</th>\n",
       "      <td>Shang-Chi and the Legend of the Ten Rings</td>\n",
       "      <td>79.0</td>\n",
       "      <td>Action, Adventure, Fantasy</td>\n",
       "      <td>09/03/2021</td>\n",
       "      <td>2h 12m</td>\n",
       "      <td>Destin Daniel Cretton</td>\n",
       "      <td>https://www.themoviedb.org/movie/566525</td>\n",
       "    </tr>\n",
       "    <tr>\n",
       "      <th>3</th>\n",
       "      <td>The Suicide Squad</td>\n",
       "      <td>79.0</td>\n",
       "      <td>Action, Adventure, Fantasy, Comedy</td>\n",
       "      <td>08/06/2021</td>\n",
       "      <td>2h 12m</td>\n",
       "      <td>James Gunn</td>\n",
       "      <td>https://www.themoviedb.org/movie/436969</td>\n",
       "    </tr>\n",
       "    <tr>\n",
       "      <th>4</th>\n",
       "      <td>The Tomorrow War</td>\n",
       "      <td>81.0</td>\n",
       "      <td>Action, Science Fiction, Adventure</td>\n",
       "      <td>07/02/2021</td>\n",
       "      <td>2h 18m</td>\n",
       "      <td>Chris McKay</td>\n",
       "      <td>https://www.themoviedb.org/movie/588228</td>\n",
       "    </tr>\n",
       "  </tbody>\n",
       "</table>\n",
       "</div>"
      ],
      "text/plain": [
       "                                        name rating  \\\n",
       "0                              Jurassic Hunt   48.0   \n",
       "1                                  Malignant   73.0   \n",
       "2  Shang-Chi and the Legend of the Ten Rings   79.0   \n",
       "3                          The Suicide Squad   79.0   \n",
       "4                           The Tomorrow War   81.0   \n",
       "\n",
       "                                genre release_date runtime  \\\n",
       "0   Action, Science Fiction, Thriller   09/01/2021  1h 23m   \n",
       "1    Horror, Thriller, Mystery, Crime   09/10/2021  1h 51m   \n",
       "2          Action, Adventure, Fantasy   09/03/2021  2h 12m   \n",
       "3  Action, Adventure, Fantasy, Comedy   08/06/2021  2h 12m   \n",
       "4  Action, Science Fiction, Adventure   07/02/2021  2h 18m   \n",
       "\n",
       "                director                                      url  \n",
       "0           Hank Braxtan  https://www.themoviedb.org/movie/848278  \n",
       "1              James Wan  https://www.themoviedb.org/movie/619778  \n",
       "2  Destin Daniel Cretton  https://www.themoviedb.org/movie/566525  \n",
       "3             James Gunn  https://www.themoviedb.org/movie/436969  \n",
       "4            Chris McKay  https://www.themoviedb.org/movie/588228  "
      ]
     },
     "execution_count": 82,
     "metadata": {},
     "output_type": "execute_result"
    }
   ],
   "source": [
    "# Invoke the scrape_movies functionality \n",
    "movies_df = pd.Dataframe(scrape_movies())\n",
    "movies_df.head() # View the first few rows of the output"
   ]
  },
  {
   "cell_type": "code",
   "execution_count": 83,
   "metadata": {},
   "outputs": [],
   "source": [
    "# Save the dataset to `.csv` format\n",
    "movies_df.to_csv('movies.csv', index=None)"
   ]
  },
  {
   "cell_type": "markdown",
   "metadata": {},
   "source": [
    "We can check that the CSV was created properly by reading the csv file using `pandas`."
   ]
  },
  {
   "cell_type": "code",
   "execution_count": 84,
   "metadata": {
    "scrolled": false
   },
   "outputs": [
    {
     "data": {
      "text/html": [
       "<div>\n",
       "<style scoped>\n",
       "    .dataframe tbody tr th:only-of-type {\n",
       "        vertical-align: middle;\n",
       "    }\n",
       "\n",
       "    .dataframe tbody tr th {\n",
       "        vertical-align: top;\n",
       "    }\n",
       "\n",
       "    .dataframe thead th {\n",
       "        text-align: right;\n",
       "    }\n",
       "</style>\n",
       "<table border=\"1\" class=\"dataframe\">\n",
       "  <thead>\n",
       "    <tr style=\"text-align: right;\">\n",
       "      <th></th>\n",
       "      <th>name</th>\n",
       "      <th>rating</th>\n",
       "      <th>genre</th>\n",
       "      <th>release_date</th>\n",
       "      <th>runtime</th>\n",
       "      <th>director</th>\n",
       "      <th>url</th>\n",
       "    </tr>\n",
       "  </thead>\n",
       "  <tbody>\n",
       "    <tr>\n",
       "      <th>0</th>\n",
       "      <td>Jurassic Hunt</td>\n",
       "      <td>48.0</td>\n",
       "      <td>Action, Science Fiction, Thriller</td>\n",
       "      <td>09/01/2021</td>\n",
       "      <td>1h 23m</td>\n",
       "      <td>Hank Braxtan</td>\n",
       "      <td>https://www.themoviedb.org/movie/848278</td>\n",
       "    </tr>\n",
       "    <tr>\n",
       "      <th>1</th>\n",
       "      <td>Malignant</td>\n",
       "      <td>73.0</td>\n",
       "      <td>Horror, Thriller, Mystery, Crime</td>\n",
       "      <td>09/10/2021</td>\n",
       "      <td>1h 51m</td>\n",
       "      <td>James Wan</td>\n",
       "      <td>https://www.themoviedb.org/movie/619778</td>\n",
       "    </tr>\n",
       "    <tr>\n",
       "      <th>2</th>\n",
       "      <td>Shang-Chi and the Legend of the Ten Rings</td>\n",
       "      <td>79.0</td>\n",
       "      <td>Action, Adventure, Fantasy</td>\n",
       "      <td>09/03/2021</td>\n",
       "      <td>2h 12m</td>\n",
       "      <td>Destin Daniel Cretton</td>\n",
       "      <td>https://www.themoviedb.org/movie/566525</td>\n",
       "    </tr>\n",
       "    <tr>\n",
       "      <th>3</th>\n",
       "      <td>The Suicide Squad</td>\n",
       "      <td>79.0</td>\n",
       "      <td>Action, Adventure, Fantasy, Comedy</td>\n",
       "      <td>08/06/2021</td>\n",
       "      <td>2h 12m</td>\n",
       "      <td>James Gunn</td>\n",
       "      <td>https://www.themoviedb.org/movie/436969</td>\n",
       "    </tr>\n",
       "    <tr>\n",
       "      <th>4</th>\n",
       "      <td>The Tomorrow War</td>\n",
       "      <td>81.0</td>\n",
       "      <td>Action, Science Fiction, Adventure</td>\n",
       "      <td>07/02/2021</td>\n",
       "      <td>2h 18m</td>\n",
       "      <td>Chris McKay</td>\n",
       "      <td>https://www.themoviedb.org/movie/588228</td>\n",
       "    </tr>\n",
       "  </tbody>\n",
       "</table>\n",
       "</div>"
      ],
      "text/plain": [
       "                                        name  rating  \\\n",
       "0                              Jurassic Hunt    48.0   \n",
       "1                                  Malignant    73.0   \n",
       "2  Shang-Chi and the Legend of the Ten Rings    79.0   \n",
       "3                          The Suicide Squad    79.0   \n",
       "4                           The Tomorrow War    81.0   \n",
       "\n",
       "                                genre release_date runtime  \\\n",
       "0   Action, Science Fiction, Thriller   09/01/2021  1h 23m   \n",
       "1    Horror, Thriller, Mystery, Crime   09/10/2021  1h 51m   \n",
       "2          Action, Adventure, Fantasy   09/03/2021  2h 12m   \n",
       "3  Action, Adventure, Fantasy, Comedy   08/06/2021  2h 12m   \n",
       "4  Action, Science Fiction, Adventure   07/02/2021  2h 18m   \n",
       "\n",
       "                director                                      url  \n",
       "0           Hank Braxtan  https://www.themoviedb.org/movie/848278  \n",
       "1              James Wan  https://www.themoviedb.org/movie/619778  \n",
       "2  Destin Daniel Cretton  https://www.themoviedb.org/movie/566525  \n",
       "3             James Gunn  https://www.themoviedb.org/movie/436969  \n",
       "4            Chris McKay  https://www.themoviedb.org/movie/588228  "
      ]
     },
     "execution_count": 84,
     "metadata": {},
     "output_type": "execute_result"
    }
   ],
   "source": [
    "df = pd.read_csv('movies.csv')\n",
    "df.head()"
   ]
  },
  {
   "cell_type": "code",
   "execution_count": null,
   "metadata": {},
   "outputs": [],
   "source": [
    "df.shape"
   ]
  },
  {
   "cell_type": "markdown",
   "metadata": {},
   "source": [
    "### Summary\n",
    "\n",
    "1. Downloaded the TMdb movie web page using `Requests`\n",
    "2. Extracted the movie details using BeautifulSoup (bs4).\n",
    "3. Extracted all the movie informations - movie name, user rating, release date, genre, duration, directors and urls. \n",
    "4. Complied the movie informations into Pandas lists and Dataframes. \n",
    "5. Extracted the movie informations for multiple pages.\n",
    "6. Saved the dataset into .`csv` format"
   ]
  }
 ],
 "metadata": {
  "kernelspec": {
   "display_name": "Python 3",
   "language": "python",
   "name": "python3"
  },
  "language_info": {
   "codemirror_mode": {
    "name": "ipython",
    "version": 3
   },
   "file_extension": ".py",
   "mimetype": "text/x-python",
   "name": "python",
   "nbconvert_exporter": "python",
   "pygments_lexer": "ipython3",
   "version": "3.8.8"
  }
 },
 "nbformat": 4,
 "nbformat_minor": 2
}
